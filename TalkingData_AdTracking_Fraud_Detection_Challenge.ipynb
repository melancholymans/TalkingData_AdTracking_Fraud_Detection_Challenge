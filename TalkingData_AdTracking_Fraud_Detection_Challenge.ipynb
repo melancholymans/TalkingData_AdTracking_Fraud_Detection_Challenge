{
  "nbformat": 4,
  "nbformat_minor": 0,
  "metadata": {
    "colab": {
      "name": "TalkingData_AdTracking_Fraud_Detection_Challenge.ipynb",
      "version": "0.3.2",
      "provenance": [],
      "include_colab_link": true
    },
    "kernelspec": {
      "name": "python3",
      "display_name": "Python 3"
    },
    "accelerator": "GPU"
  },
  "cells": [
    {
      "cell_type": "markdown",
      "metadata": {
        "id": "view-in-github",
        "colab_type": "text"
      },
      "source": [
        "<a href=\"https://colab.research.google.com/github/melancholymans/TalkingData_AdTracking_Fraud_Detection_Challenge/blob/master/TalkingData_AdTracking_Fraud_Detection_Challenge.ipynb\" target=\"_parent\"><img src=\"https://colab.research.google.com/assets/colab-badge.svg\" alt=\"Open In Colab\"/></a>"
      ]
    },
    {
      "cell_type": "markdown",
      "metadata": {
        "id": "vZq7Z0n6IPQz",
        "colab_type": "text"
      },
      "source": [
        "TalkingData_AdTracking_Fraud_Detection_Challenge"
      ]
    },
    {
      "cell_type": "code",
      "metadata": {
        "id": "YstAXrEkIEXb",
        "colab_type": "code",
        "colab": {}
      },
      "source": [
        "import pandas as pd\n",
        "#import numpy as np\n",
        "#import matplotlib.pyplot as plt"
      ],
      "execution_count": 0,
      "outputs": []
    },
    {
      "cell_type": "code",
      "metadata": {
        "id": "8e4dBs0CIiaT",
        "colab_type": "code",
        "colab": {}
      },
      "source": [
        "A = np.array([[-0.259255,0.637216],\n",
        "                     [-0.163380,0.676041],\n",
        "                     [0.681100,0.122803],\n",
        "                     [0.483628,0.075390],\n",
        "                     [0.456400,0.340823]])\n",
        "B = np.array([[2.400068,0.0],\n",
        "             [0.0,3.127071]])\n",
        "C = np.array([[-0.054005,-0.284113,0.675451,0.473945,0.485289],\n",
        "            [0.745145,0.623738,0.172371,0.148262,0.063380]])"
      ],
      "execution_count": 0,
      "outputs": []
    },
    {
      "cell_type": "code",
      "metadata": {
        "id": "Lfj_tQvhJri2",
        "colab_type": "code",
        "colab": {}
      },
      "source": [
        "Z=A@B@C\n",
        "print(A.shape)\n",
        "print(B.shape)\n",
        "print(C.shape)\n",
        "print(Z.shape)\n",
        "df = pd.DataFrame(Z)\n",
        "\n",
        "df"
      ],
      "execution_count": 0,
      "outputs": []
    },
    {
      "cell_type": "code",
      "metadata": {
        "id": "8187Ib_nKpSk",
        "colab_type": "code",
        "outputId": "83fdddd3-943e-4915-dddc-ac7eab164b8c",
        "colab": {
          "base_uri": "https://localhost:8080/",
          "height": 33
        }
      },
      "source": [
        "from google.colab import drive\n",
        "drive.mount('/content/drive')"
      ],
      "execution_count": 0,
      "outputs": [
        {
          "output_type": "stream",
          "text": [
            "Drive already mounted at /content/drive; to attempt to forcibly remount, call drive.mount(\"/content/drive\", force_remount=True).\n"
          ],
          "name": "stdout"
        }
      ]
    },
    {
      "cell_type": "code",
      "metadata": {
        "id": "awwBf33lLe2P",
        "colab_type": "code",
        "colab": {}
      },
      "source": [
        "base_path = 'drive/My Drive/Colab Notebooks/kaggle/TalkingData_AdTracking_Fraud_Detection_Challenge/input/'"
      ],
      "execution_count": 0,
      "outputs": []
    },
    {
      "cell_type": "code",
      "metadata": {
        "id": "uqGImpq0LuK3",
        "colab_type": "code",
        "outputId": "a2ec303f-adab-4501-b449-dd9d934e0527",
        "colab": {
          "base_uri": "https://localhost:8080/",
          "height": 50
        }
      },
      "source": [
        "df = pd.read_csv(base_path+'train.csv',encoding='utf-16')"
      ],
      "execution_count": 10,
      "outputs": [
        {
          "output_type": "stream",
          "text": [
            "/usr/local/lib/python3.6/dist-packages/IPython/core/interactiveshell.py:2718: DtypeWarning: Columns (6) have mixed types. Specify dtype option on import or set low_memory=False.\n",
            "  interactivity=interactivity, compiler=compiler, result=result)\n"
          ],
          "name": "stderr"
        }
      ]
    },
    {
      "cell_type": "code",
      "metadata": {
        "id": "yFkVTZmzQ23o",
        "colab_type": "code",
        "outputId": "d238fef1-962f-445b-81e9-75c226a45a8f",
        "colab": {
          "base_uri": "https://localhost:8080/",
          "height": 197
        }
      },
      "source": [
        "df.head()"
      ],
      "execution_count": 11,
      "outputs": [
        {
          "output_type": "execute_result",
          "data": {
            "text/html": [
              "<div>\n",
              "<style scoped>\n",
              "    .dataframe tbody tr th:only-of-type {\n",
              "        vertical-align: middle;\n",
              "    }\n",
              "\n",
              "    .dataframe tbody tr th {\n",
              "        vertical-align: top;\n",
              "    }\n",
              "\n",
              "    .dataframe thead th {\n",
              "        text-align: right;\n",
              "    }\n",
              "</style>\n",
              "<table border=\"1\" class=\"dataframe\">\n",
              "  <thead>\n",
              "    <tr style=\"text-align: right;\">\n",
              "      <th></th>\n",
              "      <th>ip</th>\n",
              "      <th>app</th>\n",
              "      <th>device</th>\n",
              "      <th>os</th>\n",
              "      <th>channel</th>\n",
              "      <th>click_time</th>\n",
              "      <th>attributed_time</th>\n",
              "      <th>is_attributed</th>\n",
              "    </tr>\n",
              "  </thead>\n",
              "  <tbody>\n",
              "    <tr>\n",
              "      <th>0</th>\n",
              "      <td>204158</td>\n",
              "      <td>35</td>\n",
              "      <td>1</td>\n",
              "      <td>13</td>\n",
              "      <td>21</td>\n",
              "      <td>2017-11-06 15:41:07</td>\n",
              "      <td>2017-11-07 08:17:19</td>\n",
              "      <td>1</td>\n",
              "    </tr>\n",
              "    <tr>\n",
              "      <th>1</th>\n",
              "      <td>29692</td>\n",
              "      <td>9</td>\n",
              "      <td>1</td>\n",
              "      <td>22</td>\n",
              "      <td>215</td>\n",
              "      <td>2017-11-06 16:00:02</td>\n",
              "      <td>2017-11-07 10:05:22</td>\n",
              "      <td>1</td>\n",
              "    </tr>\n",
              "    <tr>\n",
              "      <th>2</th>\n",
              "      <td>64516</td>\n",
              "      <td>35</td>\n",
              "      <td>1</td>\n",
              "      <td>13</td>\n",
              "      <td>21</td>\n",
              "      <td>2017-11-06 16:00:02</td>\n",
              "      <td>2017-11-06 23:40:50</td>\n",
              "      <td>1</td>\n",
              "    </tr>\n",
              "    <tr>\n",
              "      <th>3</th>\n",
              "      <td>172429</td>\n",
              "      <td>35</td>\n",
              "      <td>1</td>\n",
              "      <td>46</td>\n",
              "      <td>274</td>\n",
              "      <td>2017-11-06 16:00:03</td>\n",
              "      <td>2017-11-07 00:55:29</td>\n",
              "      <td>1</td>\n",
              "    </tr>\n",
              "    <tr>\n",
              "      <th>4</th>\n",
              "      <td>199085</td>\n",
              "      <td>35</td>\n",
              "      <td>1</td>\n",
              "      <td>13</td>\n",
              "      <td>274</td>\n",
              "      <td>2017-11-06 16:00:04</td>\n",
              "      <td>2017-11-06 23:04:54</td>\n",
              "      <td>1</td>\n",
              "    </tr>\n",
              "  </tbody>\n",
              "</table>\n",
              "</div>"
            ],
            "text/plain": [
              "       ip  app  device  ...           click_time      attributed_time is_attributed\n",
              "0  204158   35       1  ...  2017-11-06 15:41:07  2017-11-07 08:17:19             1\n",
              "1   29692    9       1  ...  2017-11-06 16:00:02  2017-11-07 10:05:22             1\n",
              "2   64516   35       1  ...  2017-11-06 16:00:02  2017-11-06 23:40:50             1\n",
              "3  172429   35       1  ...  2017-11-06 16:00:03  2017-11-07 00:55:29             1\n",
              "4  199085   35       1  ...  2017-11-06 16:00:04  2017-11-06 23:04:54             1\n",
              "\n",
              "[5 rows x 8 columns]"
            ]
          },
          "metadata": {
            "tags": []
          },
          "execution_count": 11
        }
      ]
    },
    {
      "cell_type": "code",
      "metadata": {
        "id": "E_XVHVjsVpl3",
        "colab_type": "code",
        "colab": {}
      },
      "source": [
        ""
      ],
      "execution_count": 0,
      "outputs": []
    }
  ]
}